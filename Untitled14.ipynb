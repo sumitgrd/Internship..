{
 "cells": [
  {
   "cell_type": "markdown",
   "id": "96513cab",
   "metadata": {},
   "source": [
    "# PYTHON WORKSHEET-1"
   ]
  },
  {
   "cell_type": "markdown",
   "id": "e7318756",
   "metadata": {},
   "source": [
    "11. Write a python program to find the factorial of a number"
   ]
  },
  {
   "cell_type": "code",
   "execution_count": 2,
   "id": "e7a3ccc0",
   "metadata": {},
   "outputs": [
    {
     "name": "stdout",
     "output_type": "stream",
     "text": [
      "Enter a number: 12\n",
      "The factorial of 12 is 479001600\n"
     ]
    }
   ],
   "source": [
    "def factorial(n):\n",
    "    if n == 0 or n == 1:\n",
    "        return 1\n",
    "    else:\n",
    "        return n * factorial(n - 1)\n",
    "\n",
    "# Input \n",
    "number = int(input(\"Enter a number: \"))\n",
    "\n",
    "# Check if the number is non-negative\n",
    "if number < 0:\n",
    "    print(\"Factorial is not defined for negative numbers.\")\n",
    "else:\n",
    "    result = factorial(number)\n",
    "    print(f\"The factorial of {number} is {result}\")\n"
   ]
  },
  {
   "cell_type": "markdown",
   "id": "0585a42c",
   "metadata": {},
   "source": [
    "12. Write a python program to find whether a number is prime or composite.\n"
   ]
  },
  {
   "cell_type": "code",
   "execution_count": 3,
   "id": "6350509a",
   "metadata": {},
   "outputs": [
    {
     "name": "stdout",
     "output_type": "stream",
     "text": [
      "Enter a number: 10\n",
      "10 is a composite number.\n"
     ]
    }
   ],
   "source": [
    "def is_prime(num):\n",
    "    if num < 2:\n",
    "        return False\n",
    "    for i in range(2, int(num**0.5) + 1):\n",
    "        if num % i == 0:\n",
    "            return False\n",
    "    return True\n",
    "\n",
    "# Input \n",
    "number = int(input(\"Enter a number: \"))\n",
    "\n",
    "# Check if the number is prime or composite\n",
    "if is_prime(number):\n",
    "    print(f\"{number} is a prime number.\")\n",
    "else:\n",
    "    print(f\"{number} is a composite number.\")\n"
   ]
  },
  {
   "cell_type": "markdown",
   "id": "91c9f9b9",
   "metadata": {},
   "source": [
    "13. Write a python program to check whether a given string is palindrome or not"
   ]
  },
  {
   "cell_type": "code",
   "execution_count": 4,
   "id": "17289a98",
   "metadata": {},
   "outputs": [
    {
     "name": "stdout",
     "output_type": "stream",
     "text": [
      "Enter a string: 11\n",
      "11 is a palindrome.\n"
     ]
    }
   ],
   "source": [
    "def is_palindrome(s):\n",
    "    s = s.lower()  # Convert the string to lowercase for case-insensitive comparison\n",
    "    s = ''.join(c for c in s if c.isalnum())  # Remove non-alphanumeric characters\n",
    "    return s == s[::-1]\n",
    "\n",
    "# Input from the user\n",
    "string = input(\"Enter a string: \")\n",
    "\n",
    "# Check if the string is a palindrome\n",
    "if is_palindrome(string):\n",
    "    print(f\"{string} is a palindrome.\")\n",
    "else:\n",
    "    print(f\"{string} is not a palindrome.\")\n"
   ]
  },
  {
   "cell_type": "markdown",
   "id": "0d3dec29",
   "metadata": {},
   "source": [
    "14. Write a Python program to get the third side of right-angled triangle from two given sides.\n"
   ]
  },
  {
   "cell_type": "code",
   "execution_count": 6,
   "id": "cb6ca4fb",
   "metadata": {},
   "outputs": [
    {
     "name": "stdout",
     "output_type": "stream",
     "text": [
      "Enter the length of the first side: 8\n",
      "Enter the length of the second side: 4\n",
      "The length of the third side (hypotenuse) is: 8.94427190999916\n"
     ]
    }
   ],
   "source": [
    "def find_hypotenuse(a, b):\n",
    "    hypotenuse = (a**2 + b**2)**0.5\n",
    "    return hypotenuse\n",
    "\n",
    "# Input from the user\n",
    "side1 = float(input(\"Enter the length of the first side: \"))\n",
    "side2 = float(input(\"Enter the length of the second side: \"))\n",
    "\n",
    "# Calculate the length of the hypotenuse (third side)\n",
    "hypotenuse = find_hypotenuse(side1, side2)\n",
    "\n",
    "# Display the result\n",
    "print(f\"The length of the third side (hypotenuse) is: {hypotenuse}\")\n"
   ]
  },
  {
   "cell_type": "markdown",
   "id": "cd56ce57",
   "metadata": {},
   "source": [
    "Write a python program to print the frequency of each of the characters present in a given string.\n"
   ]
  },
  {
   "cell_type": "code",
   "execution_count": 7,
   "id": "403016af",
   "metadata": {},
   "outputs": [
    {
     "name": "stdout",
     "output_type": "stream",
     "text": [
      "Enter a string: 50\n",
      "Character frequencies:\n",
      "5: 1\n",
      "0: 1\n"
     ]
    }
   ],
   "source": [
    "def character_frequency(input_string):\n",
    "    # Create an empty dictionary to store character frequencies\n",
    "    frequency_dict = {}\n",
    "\n",
    "    # Count the frequency of each character\n",
    "    for char in input_string:\n",
    "        if char in frequency_dict:\n",
    "            frequency_dict[char] += 1\n",
    "        else:\n",
    "            frequency_dict[char] = 1\n",
    "\n",
    "    # Print the character frequencies\n",
    "    print(\"Character frequencies:\")\n",
    "    for char, frequency in frequency_dict.items():\n",
    "        print(f\"{char}: {frequency}\")\n",
    "\n",
    "# Input \n",
    "input_str = input(\"Enter a string: \")\n",
    "\n",
    "# Display the character frequencies\n",
    "character_frequency(input_str)\n"
   ]
  },
  {
   "cell_type": "code",
   "execution_count": null,
   "id": "c5f2f1e7",
   "metadata": {},
   "outputs": [],
   "source": []
  }
 ],
 "metadata": {
  "kernelspec": {
   "display_name": "Python 3 (ipykernel)",
   "language": "python",
   "name": "python3"
  },
  "language_info": {
   "codemirror_mode": {
    "name": "ipython",
    "version": 3
   },
   "file_extension": ".py",
   "mimetype": "text/x-python",
   "name": "python",
   "nbconvert_exporter": "python",
   "pygments_lexer": "ipython3",
   "version": "3.11.4"
  }
 },
 "nbformat": 4,
 "nbformat_minor": 5
}
